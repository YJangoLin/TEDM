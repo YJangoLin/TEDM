{
 "cells": [
  {
   "cell_type": "code",
   "execution_count": 1,
   "metadata": {},
   "outputs": [],
   "source": [
    "import os\n",
    "import pandas as pd\n",
    "import numpy as np"
   ]
  },
  {
   "cell_type": "code",
   "execution_count": 2,
   "metadata": {},
   "outputs": [],
   "source": [
    "imageDir = 'E:/TEDM/dataset/Concentric Ellipses Dataset/images'\n",
    "imagePath = [imageDir + '/' + fileName for fileName in os.listdir(imageDir)]\n",
    "data = pd.DataFrame({'imagePath': imagePath})"
   ]
  },
  {
   "cell_type": "code",
   "execution_count": 3,
   "metadata": {},
   "outputs": [
    {
     "data": {
      "text/html": [
       "<div>\n",
       "<style scoped>\n",
       "    .dataframe tbody tr th:only-of-type {\n",
       "        vertical-align: middle;\n",
       "    }\n",
       "\n",
       "    .dataframe tbody tr th {\n",
       "        vertical-align: top;\n",
       "    }\n",
       "\n",
       "    .dataframe thead th {\n",
       "        text-align: right;\n",
       "    }\n",
       "</style>\n",
       "<table border=\"1\" class=\"dataframe\">\n",
       "  <thead>\n",
       "    <tr style=\"text-align: right;\">\n",
       "      <th></th>\n",
       "      <th>imagePath</th>\n",
       "    </tr>\n",
       "  </thead>\n",
       "  <tbody>\n",
       "    <tr>\n",
       "      <th>0</th>\n",
       "      <td>E:/TEDM/dataset/Concentric Ellipses Dataset/im...</td>\n",
       "    </tr>\n",
       "    <tr>\n",
       "      <th>1</th>\n",
       "      <td>E:/TEDM/dataset/Concentric Ellipses Dataset/im...</td>\n",
       "    </tr>\n",
       "    <tr>\n",
       "      <th>2</th>\n",
       "      <td>E:/TEDM/dataset/Concentric Ellipses Dataset/im...</td>\n",
       "    </tr>\n",
       "    <tr>\n",
       "      <th>3</th>\n",
       "      <td>E:/TEDM/dataset/Concentric Ellipses Dataset/im...</td>\n",
       "    </tr>\n",
       "    <tr>\n",
       "      <th>4</th>\n",
       "      <td>E:/TEDM/dataset/Concentric Ellipses Dataset/im...</td>\n",
       "    </tr>\n",
       "  </tbody>\n",
       "</table>\n",
       "</div>"
      ],
      "text/plain": [
       "                                           imagePath\n",
       "0  E:/TEDM/dataset/Concentric Ellipses Dataset/im...\n",
       "1  E:/TEDM/dataset/Concentric Ellipses Dataset/im...\n",
       "2  E:/TEDM/dataset/Concentric Ellipses Dataset/im...\n",
       "3  E:/TEDM/dataset/Concentric Ellipses Dataset/im...\n",
       "4  E:/TEDM/dataset/Concentric Ellipses Dataset/im..."
      ]
     },
     "execution_count": 3,
     "metadata": {},
     "output_type": "execute_result"
    }
   ],
   "source": [
    "data.head()"
   ]
  },
  {
   "cell_type": "code",
   "execution_count": 4,
   "metadata": {},
   "outputs": [],
   "source": [
    "# data[\"num\"] = data['lackNum'].abs()\n",
    "# data = data.sort_values(\"num\", ascending=False)\n",
    "# data.head()"
   ]
  },
  {
   "cell_type": "code",
   "execution_count": 5,
   "metadata": {},
   "outputs": [],
   "source": [
    "data[\"filename\"] = data['imagePath'].str.split(\"/\").apply(lambda x: x[-1])"
   ]
  },
  {
   "cell_type": "code",
   "execution_count": 6,
   "metadata": {},
   "outputs": [
    {
     "data": {
      "text/html": [
       "<div>\n",
       "<style scoped>\n",
       "    .dataframe tbody tr th:only-of-type {\n",
       "        vertical-align: middle;\n",
       "    }\n",
       "\n",
       "    .dataframe tbody tr th {\n",
       "        vertical-align: top;\n",
       "    }\n",
       "\n",
       "    .dataframe thead th {\n",
       "        text-align: right;\n",
       "    }\n",
       "</style>\n",
       "<table border=\"1\" class=\"dataframe\">\n",
       "  <thead>\n",
       "    <tr style=\"text-align: right;\">\n",
       "      <th></th>\n",
       "      <th>imagePath</th>\n",
       "      <th>filename</th>\n",
       "      <th>concurrent</th>\n",
       "      <th>grounp</th>\n",
       "    </tr>\n",
       "  </thead>\n",
       "  <tbody>\n",
       "    <tr>\n",
       "      <th>0</th>\n",
       "      <td>E:/TEDM/dataset/Concentric Ellipses Dataset/im...</td>\n",
       "      <td>synth_concentric_1_grounp_2_concentric_img1.png</td>\n",
       "      <td>1</td>\n",
       "      <td>2</td>\n",
       "    </tr>\n",
       "    <tr>\n",
       "      <th>1</th>\n",
       "      <td>E:/TEDM/dataset/Concentric Ellipses Dataset/im...</td>\n",
       "      <td>synth_concentric_1_grounp_2_concentric_img10.png</td>\n",
       "      <td>1</td>\n",
       "      <td>2</td>\n",
       "    </tr>\n",
       "    <tr>\n",
       "      <th>2</th>\n",
       "      <td>E:/TEDM/dataset/Concentric Ellipses Dataset/im...</td>\n",
       "      <td>synth_concentric_1_grounp_2_concentric_img11.png</td>\n",
       "      <td>1</td>\n",
       "      <td>2</td>\n",
       "    </tr>\n",
       "    <tr>\n",
       "      <th>3</th>\n",
       "      <td>E:/TEDM/dataset/Concentric Ellipses Dataset/im...</td>\n",
       "      <td>synth_concentric_1_grounp_2_concentric_img12.png</td>\n",
       "      <td>1</td>\n",
       "      <td>2</td>\n",
       "    </tr>\n",
       "    <tr>\n",
       "      <th>4</th>\n",
       "      <td>E:/TEDM/dataset/Concentric Ellipses Dataset/im...</td>\n",
       "      <td>synth_concentric_1_grounp_2_concentric_img13.png</td>\n",
       "      <td>1</td>\n",
       "      <td>2</td>\n",
       "    </tr>\n",
       "  </tbody>\n",
       "</table>\n",
       "</div>"
      ],
      "text/plain": [
       "                                           imagePath  \\\n",
       "0  E:/TEDM/dataset/Concentric Ellipses Dataset/im...   \n",
       "1  E:/TEDM/dataset/Concentric Ellipses Dataset/im...   \n",
       "2  E:/TEDM/dataset/Concentric Ellipses Dataset/im...   \n",
       "3  E:/TEDM/dataset/Concentric Ellipses Dataset/im...   \n",
       "4  E:/TEDM/dataset/Concentric Ellipses Dataset/im...   \n",
       "\n",
       "                                           filename  concurrent  grounp  \n",
       "0   synth_concentric_1_grounp_2_concentric_img1.png           1       2  \n",
       "1  synth_concentric_1_grounp_2_concentric_img10.png           1       2  \n",
       "2  synth_concentric_1_grounp_2_concentric_img11.png           1       2  \n",
       "3  synth_concentric_1_grounp_2_concentric_img12.png           1       2  \n",
       "4  synth_concentric_1_grounp_2_concentric_img13.png           1       2  "
      ]
     },
     "execution_count": 6,
     "metadata": {},
     "output_type": "execute_result"
    }
   ],
   "source": [
    "data[\"concurrent\"] = data['filename'].str.split(\"_\").apply(lambda x: int(x[2]))\n",
    "data[\"grounp\"] = data['filename'].str.split(\"_\").apply(lambda x: int(x[4]))\n",
    "data.head()"
   ]
  },
  {
   "cell_type": "code",
   "execution_count": 7,
   "metadata": {},
   "outputs": [],
   "source": [
    "valgroupdata = data.groupby([\"concurrent\", \"grounp\"]).head(40*0.2)\n",
    "traingroupdata = data.groupby([\"concurrent\", \"grounp\"]).tail(40*0.8)"
   ]
  },
  {
   "cell_type": "code",
   "execution_count": 8,
   "metadata": {},
   "outputs": [
    {
     "data": {
      "text/html": [
       "<div>\n",
       "<style scoped>\n",
       "    .dataframe tbody tr th:only-of-type {\n",
       "        vertical-align: middle;\n",
       "    }\n",
       "\n",
       "    .dataframe tbody tr th {\n",
       "        vertical-align: top;\n",
       "    }\n",
       "\n",
       "    .dataframe thead th {\n",
       "        text-align: right;\n",
       "    }\n",
       "</style>\n",
       "<table border=\"1\" class=\"dataframe\">\n",
       "  <thead>\n",
       "    <tr style=\"text-align: right;\">\n",
       "      <th></th>\n",
       "      <th>imagePath</th>\n",
       "      <th>filename</th>\n",
       "      <th>concurrent</th>\n",
       "      <th>grounp</th>\n",
       "    </tr>\n",
       "  </thead>\n",
       "  <tbody>\n",
       "    <tr>\n",
       "      <th>0</th>\n",
       "      <td>E:/TEDM/dataset/Concentric Ellipses Dataset/im...</td>\n",
       "      <td>synth_concentric_1_grounp_2_concentric_img1.png</td>\n",
       "      <td>1</td>\n",
       "      <td>2</td>\n",
       "    </tr>\n",
       "    <tr>\n",
       "      <th>1</th>\n",
       "      <td>E:/TEDM/dataset/Concentric Ellipses Dataset/im...</td>\n",
       "      <td>synth_concentric_1_grounp_2_concentric_img10.png</td>\n",
       "      <td>1</td>\n",
       "      <td>2</td>\n",
       "    </tr>\n",
       "    <tr>\n",
       "      <th>2</th>\n",
       "      <td>E:/TEDM/dataset/Concentric Ellipses Dataset/im...</td>\n",
       "      <td>synth_concentric_1_grounp_2_concentric_img11.png</td>\n",
       "      <td>1</td>\n",
       "      <td>2</td>\n",
       "    </tr>\n",
       "    <tr>\n",
       "      <th>3</th>\n",
       "      <td>E:/TEDM/dataset/Concentric Ellipses Dataset/im...</td>\n",
       "      <td>synth_concentric_1_grounp_2_concentric_img12.png</td>\n",
       "      <td>1</td>\n",
       "      <td>2</td>\n",
       "    </tr>\n",
       "    <tr>\n",
       "      <th>4</th>\n",
       "      <td>E:/TEDM/dataset/Concentric Ellipses Dataset/im...</td>\n",
       "      <td>synth_concentric_1_grounp_2_concentric_img13.png</td>\n",
       "      <td>1</td>\n",
       "      <td>2</td>\n",
       "    </tr>\n",
       "    <tr>\n",
       "      <th>...</th>\n",
       "      <td>...</td>\n",
       "      <td>...</td>\n",
       "      <td>...</td>\n",
       "      <td>...</td>\n",
       "    </tr>\n",
       "    <tr>\n",
       "      <th>683</th>\n",
       "      <td>E:/TEDM/dataset/Concentric Ellipses Dataset/im...</td>\n",
       "      <td>synth_concentric_6_grounp_4_concentric_img12.png</td>\n",
       "      <td>6</td>\n",
       "      <td>4</td>\n",
       "    </tr>\n",
       "    <tr>\n",
       "      <th>684</th>\n",
       "      <td>E:/TEDM/dataset/Concentric Ellipses Dataset/im...</td>\n",
       "      <td>synth_concentric_6_grounp_4_concentric_img13.png</td>\n",
       "      <td>6</td>\n",
       "      <td>4</td>\n",
       "    </tr>\n",
       "    <tr>\n",
       "      <th>685</th>\n",
       "      <td>E:/TEDM/dataset/Concentric Ellipses Dataset/im...</td>\n",
       "      <td>synth_concentric_6_grounp_4_concentric_img14.png</td>\n",
       "      <td>6</td>\n",
       "      <td>4</td>\n",
       "    </tr>\n",
       "    <tr>\n",
       "      <th>686</th>\n",
       "      <td>E:/TEDM/dataset/Concentric Ellipses Dataset/im...</td>\n",
       "      <td>synth_concentric_6_grounp_4_concentric_img15.png</td>\n",
       "      <td>6</td>\n",
       "      <td>4</td>\n",
       "    </tr>\n",
       "    <tr>\n",
       "      <th>687</th>\n",
       "      <td>E:/TEDM/dataset/Concentric Ellipses Dataset/im...</td>\n",
       "      <td>synth_concentric_6_grounp_4_concentric_img16.png</td>\n",
       "      <td>6</td>\n",
       "      <td>4</td>\n",
       "    </tr>\n",
       "  </tbody>\n",
       "</table>\n",
       "<p>144 rows × 4 columns</p>\n",
       "</div>"
      ],
      "text/plain": [
       "                                             imagePath  \\\n",
       "0    E:/TEDM/dataset/Concentric Ellipses Dataset/im...   \n",
       "1    E:/TEDM/dataset/Concentric Ellipses Dataset/im...   \n",
       "2    E:/TEDM/dataset/Concentric Ellipses Dataset/im...   \n",
       "3    E:/TEDM/dataset/Concentric Ellipses Dataset/im...   \n",
       "4    E:/TEDM/dataset/Concentric Ellipses Dataset/im...   \n",
       "..                                                 ...   \n",
       "683  E:/TEDM/dataset/Concentric Ellipses Dataset/im...   \n",
       "684  E:/TEDM/dataset/Concentric Ellipses Dataset/im...   \n",
       "685  E:/TEDM/dataset/Concentric Ellipses Dataset/im...   \n",
       "686  E:/TEDM/dataset/Concentric Ellipses Dataset/im...   \n",
       "687  E:/TEDM/dataset/Concentric Ellipses Dataset/im...   \n",
       "\n",
       "                                             filename  concurrent  grounp  \n",
       "0     synth_concentric_1_grounp_2_concentric_img1.png           1       2  \n",
       "1    synth_concentric_1_grounp_2_concentric_img10.png           1       2  \n",
       "2    synth_concentric_1_grounp_2_concentric_img11.png           1       2  \n",
       "3    synth_concentric_1_grounp_2_concentric_img12.png           1       2  \n",
       "4    synth_concentric_1_grounp_2_concentric_img13.png           1       2  \n",
       "..                                                ...         ...     ...  \n",
       "683  synth_concentric_6_grounp_4_concentric_img12.png           6       4  \n",
       "684  synth_concentric_6_grounp_4_concentric_img13.png           6       4  \n",
       "685  synth_concentric_6_grounp_4_concentric_img14.png           6       4  \n",
       "686  synth_concentric_6_grounp_4_concentric_img15.png           6       4  \n",
       "687  synth_concentric_6_grounp_4_concentric_img16.png           6       4  \n",
       "\n",
       "[144 rows x 4 columns]"
      ]
     },
     "execution_count": 8,
     "metadata": {},
     "output_type": "execute_result"
    }
   ],
   "source": [
    "valgroupdata"
   ]
  },
  {
   "cell_type": "code",
   "execution_count": 9,
   "metadata": {},
   "outputs": [],
   "source": [
    "valgroupdata.sort_values([\"concurrent\", \"grounp\"])[\"imagePath\"].str.replace(\".txt\", '.png').to_csv('val.txt', index=False,header=False, sep='\\n')"
   ]
  },
  {
   "cell_type": "code",
   "execution_count": 10,
   "metadata": {},
   "outputs": [],
   "source": [
    "traingroupdata.sort_values([\"concurrent\", \"grounp\"])[\"imagePath\"].str.replace(\".txt\", '.png').to_csv('train.txt', index=False, header=False, sep='\\n')"
   ]
  },
  {
   "cell_type": "code",
   "execution_count": 21,
   "metadata": {},
   "outputs": [
    {
     "name": "stderr",
     "output_type": "stream",
     "text": [
      "C:\\Users\\27179\\AppData\\Local\\Temp/ipykernel_11844/1842867203.py:1: FutureWarning: The default value of regex will change from True to False in a future version.\n",
      "  traingroupdata.sort_values([\"concurrent\", \"grounp\"])[\"fileName\"].str.replace(\".txt\", '.png').to_csv('train.txt', index=False,sep='\\n')\n"
     ]
    }
   ],
   "source": []
  },
  {
   "cell_type": "code",
   "execution_count": null,
   "metadata": {},
   "outputs": [],
   "source": []
  }
 ],
 "metadata": {
  "kernelspec": {
   "display_name": "base",
   "language": "python",
   "name": "python3"
  },
  "language_info": {
   "codemirror_mode": {
    "name": "ipython",
    "version": 3
   },
   "file_extension": ".py",
   "mimetype": "text/x-python",
   "name": "python",
   "nbconvert_exporter": "python",
   "pygments_lexer": "ipython3",
   "version": "3.8.0"
  }
 },
 "nbformat": 4,
 "nbformat_minor": 2
}
